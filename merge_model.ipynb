{
 "cells": [
  {
   "cell_type": "code",
   "execution_count": null,
   "id": "initial_id",
   "metadata": {
    "collapsed": true,
    "ExecuteTime": {
     "start_time": "2024-03-29T14:08:06.601733700Z"
    }
   },
   "outputs": [],
   "source": [
    "import cometspy as c\n",
    "import cobra\n",
    "from os.path import join\n",
    "import pandas as pd\n",
    "import matplotlib.pyplot as plt\n",
    "import numpy as np"
   ]
  },
  {
   "cell_type": "code",
   "outputs": [],
   "source": [
    "# 加载模型\n",
    "model_dir = \"model\"\n",
    "eco_model = cobra.io.load_json_model(join(model_dir, \"iML1515.json\"))\n",
    "ppu_model = cobra.io.load_json_model(join(model_dir, \"iJN1463.json\"))\n",
    "#去除交换反应边界\n",
    "for i in eco_model.reactions:\n",
    "    if 'EX_' in i.id:\n",
    "        i.lower_bound=-1000.0\n",
    "\n",
    "for i in ppu_model.reactions:\n",
    "    if 'EX_' in i.id:\n",
    "        i.lower_bound=-1000.0\n",
    "\n",
    "eco=c.model(eco_model)\n",
    "ppu=c.model(ppu_model)"
   ],
   "metadata": {
    "collapsed": false,
    "ExecuteTime": {
     "start_time": "2024-03-29T14:08:06.605733100Z"
    }
   },
   "id": "326d35a4533be81e",
   "execution_count": null
  },
  {
   "cell_type": "code",
   "outputs": [],
   "source": [
    "# 打开交换反应，以便外细胞代谢物浓度和米氏动力学控制吸收界限\n",
    "eco.open_exchanges()\n",
    "ppu.open_exchanges()\n",
    "\n",
    "eco.obj_style=\"MAX_OBJECTIVE_MIN_TOTAL\"#默认的FBA选项是“最大化目标通量”\n",
    "ppu.obj_style=\"MAX_OBJECTIVE_MIN_TOTAL\""
   ],
   "metadata": {
    "collapsed": false,
    "ExecuteTime": {
     "end_time": "2024-03-29T14:08:06.612733100Z",
     "start_time": "2024-03-29T14:08:06.609733500Z"
    }
   },
   "id": "7857853437681c91",
   "execution_count": null
  },
  {
   "cell_type": "code",
   "outputs": [],
   "source": [
    "#eco\n",
    "eco.change_bounds('EX_ca2_e',-1000,1000) \n",
    "eco.change_bounds('EX_cl_e',-1000,1000)\n",
    "eco.change_bounds('EX_h_e',-1000,1000) \n",
    "eco.change_bounds('EX_co2_e',-1000,1000) \n",
    "eco.change_bounds('EX_h2o_e',-1000,1000)\n",
    "eco.change_bounds('EX_k_e',-1000,1000) \n",
    "eco.change_bounds('EX_mg2_e',-1000,1000) \n",
    "eco.change_bounds('EX_na1_e',-1000,1000) \n",
    "eco.change_bounds('EX_o2_e',-1000,1000) \n",
    "eco.change_bounds('EX_so4_e',-1000,1000) \n",
    "eco.change_bounds('EX_nh4_e',-1000,1000) \n",
    "eco.change_bounds('EX_pi_e',-1000,1000) \n",
    "eco.change_bounds('EX_cobalt2_e',-1000,1000) \n",
    "eco.change_bounds('EX_malt_e',-10,1000) "
   ],
   "metadata": {
    "collapsed": false,
    "ExecuteTime": {
     "end_time": "2024-03-29T14:08:33.921507Z",
     "start_time": "2024-03-29T14:08:33.882507700Z"
    }
   },
   "id": "6682d229f8900c1d",
   "execution_count": 9
  },
  {
   "cell_type": "code",
   "outputs": [
    {
     "name": "stdout",
     "output_type": "stream",
     "text": [
      "reaction couldnt be found\n"
     ]
    }
   ],
   "source": [
    "#ppu\n",
    "ppu.change_bounds('EX_ca2_e',-1000,1000) \n",
    "ppu.change_bounds('EX_cl_e',-1000,1000)\n",
    "ppu.change_bounds('EX_h_e',-1000,1000) \n",
    "ppu.change_bounds('EX_co2_e',-1000,1000) \n",
    "ppu.change_bounds('EX_h2o_e',-1000,1000)\n",
    "ppu.change_bounds('EX_k_e',-1000,1000) \n",
    "ppu.change_bounds('EX_mg2_e',-1000,1000) \n",
    "ppu.change_bounds('EX_na1_e',-1000,1000) \n",
    "ppu.change_bounds('EX_o2_e',-1000,1000) \n",
    "ppu.change_bounds('EX_so4_e',-1000,1000) \n",
    "ppu.change_bounds('EX_nh4_e',-1000,1000) \n",
    "ppu.change_bounds('EX_pi_e',-1000,1000) \n",
    "ppu.change_bounds('EX_cobalt2_e',-1000,1000) \n",
    "ppu.change_bounds('EX_malt_e',-10,1000) "
   ],
   "metadata": {
    "collapsed": false,
    "ExecuteTime": {
     "end_time": "2024-03-29T14:08:34.436506800Z",
     "start_time": "2024-03-29T14:08:34.398504400Z"
    }
   },
   "id": "4311b04879c55fa6",
   "execution_count": 10
  },
  {
   "cell_type": "code",
   "outputs": [
    {
     "name": "stdout",
     "output_type": "stream",
     "text": [
      "building empty layout model\n",
      "models will need to be added with layout.add_model()\n"
     ]
    }
   ],
   "source": [
    "# 1-1混菌培养\n",
    "eco.initial_pop=[0,0,3.9e-7]\n",
    "ppu.initial_pop=[0,0,3.9e-7]\n",
    "\n",
    "test_tube_malt=c.layout()\n",
    "# 向试管布局中添加模型\n",
    "test_tube_malt.add_model(eco)\n",
    "test_tube_malt.add_model(ppu)"
   ],
   "metadata": {
    "collapsed": false,
    "ExecuteTime": {
     "end_time": "2024-03-29T14:08:35.842513600Z",
     "start_time": "2024-03-29T14:08:35.100503300Z"
    }
   },
   "id": "60a8e94ea85a4cb4",
   "execution_count": 11
  },
  {
   "cell_type": "code",
   "outputs": [
    {
     "name": "stdout",
     "output_type": "stream",
     "text": [
      "Warning: The added metabolite (ca2_c) is not able to be taken up by any of the current models\n",
      "Warning: The added metabolite (cl_c) is not able to be taken up by any of the current models\n",
      "Warning: The added metabolite (h_c) is not able to be taken up by any of the current models\n",
      "Warning: The added metabolite (co2_c) is not able to be taken up by any of the current models\n",
      "Warning: The added metabolite (h2o_c) is not able to be taken up by any of the current models\n",
      "Warning: The added metabolite (k_c) is not able to be taken up by any of the current models\n",
      "Warning: The added metabolite (mg2_c) is not able to be taken up by any of the current models\n",
      "Warning: The added metabolite (na1_c) is not able to be taken up by any of the current models\n",
      "Warning: The added metabolite (o2_c) is not able to be taken up by any of the current models\n",
      "Warning: The added metabolite (so4_c) is not able to be taken up by any of the current models\n",
      "Warning: The added metabolite (nh4_c) is not able to be taken up by any of the current models\n",
      "Warning: The added metabolite (pi_c) is not able to be taken up by any of the current models\n",
      "Warning: The added metabolite (cobalt2_c) is not able to be taken up by any of the current models\n",
      "Warning: The added metabolite (malt_c) is not able to be taken up by any of the current models\n"
     ]
    }
   ],
   "source": [
    "# 麦芽糖底物设置\n",
    "test_tube_malt.set_specific_metabolite('ca2_c', 1000) \n",
    "test_tube_malt.set_specific_metabolite('cl_c', 1000) \n",
    "test_tube_malt.set_specific_metabolite('h_c', 1000) \n",
    "test_tube_malt.set_specific_metabolite('co2_c', 1000) \n",
    "test_tube_malt.set_specific_metabolite('h2o_c', 1000) \n",
    "test_tube_malt.set_specific_metabolite('k_c', 1000) \n",
    "test_tube_malt.set_specific_metabolite('mg2_c', 1000) \n",
    "test_tube_malt.set_specific_metabolite('na1_c', 1000) \n",
    "test_tube_malt.set_specific_metabolite('o2_c', 1000) \n",
    "test_tube_malt.set_specific_metabolite('so4_c', 1000)\n",
    "test_tube_malt.set_specific_metabolite('nh4_c', 1000) \n",
    "test_tube_malt.set_specific_metabolite('pi_c', 1000) \n",
    "test_tube_malt.set_specific_metabolite('cobalt2_c', 1000) \n",
    "test_tube_malt.set_specific_metabolite('malt_c', 5.00) "
   ],
   "metadata": {
    "collapsed": false,
    "ExecuteTime": {
     "end_time": "2024-03-29T14:08:35.917509Z",
     "start_time": "2024-03-29T14:08:35.852511100Z"
    }
   },
   "id": "51e431596a31ae0f",
   "execution_count": 12
  },
  {
   "cell_type": "code",
   "outputs": [
    {
     "name": "stdout",
     "output_type": "stream",
     "text": [
      "\n",
      "Running COMETS simulation ...\n"
     ]
    },
    {
     "ename": "UnicodeDecodeError",
     "evalue": "'utf-8' codec can't decode byte 0xd5 in position 316: invalid continuation byte",
     "output_type": "error",
     "traceback": [
      "\u001B[1;31m---------------------------------------------------------------------------\u001B[0m",
      "\u001B[1;31mUnicodeDecodeError\u001B[0m                        Traceback (most recent call last)",
      "Cell \u001B[1;32mIn[13], line 26\u001B[0m\n\u001B[0;32m     20\u001B[0m \u001B[38;5;66;03m# 运行模拟\u001B[39;00m\n\u001B[0;32m     21\u001B[0m \u001B[38;5;66;03m#sim = c.comets(test_tube_malt, comp_params)\u001B[39;00m\n\u001B[0;32m     22\u001B[0m \u001B[38;5;66;03m#sim.run()\u001B[39;00m\n\u001B[0;32m     23\u001B[0m \u001B[38;5;66;03m#one_cell=3.9e-13 # gram dry weight of a cell\u001B[39;00m\n\u001B[0;32m     25\u001B[0m comp_assay\u001B[38;5;241m=\u001B[39mc\u001B[38;5;241m.\u001B[39mcomets(test_tube_malt,comp_params)\n\u001B[1;32m---> 26\u001B[0m \u001B[43mcomp_assay\u001B[49m\u001B[38;5;241;43m.\u001B[39;49m\u001B[43mrun\u001B[49m\u001B[43m(\u001B[49m\u001B[43m)\u001B[49m\n",
      "File \u001B[1;32mD:\\ProgramData\\anaconda3\\envs\\cobra\\lib\\site-packages\\cometspy\\comets.py:396\u001B[0m, in \u001B[0;36mcomets.run\u001B[1;34m(self, delete_files)\u001B[0m\n\u001B[0;32m    394\u001B[0m \u001B[38;5;28;01mexcept\u001B[39;00m \u001B[38;5;167;01mUnicodeDecodeError\u001B[39;00m:\n\u001B[0;32m    395\u001B[0m     decoded_output \u001B[38;5;241m=\u001B[39m \u001B[38;5;28mself\u001B[39m\u001B[38;5;241m.\u001B[39mrun_output\u001B[38;5;241m.\u001B[39mdecode(\u001B[38;5;124m'\u001B[39m\u001B[38;5;124mlatin-1\u001B[39m\u001B[38;5;124m'\u001B[39m)\n\u001B[1;32m--> 396\u001B[0m \u001B[38;5;28mself\u001B[39m\u001B[38;5;241m.\u001B[39mrun_output \u001B[38;5;241m=\u001B[39m \u001B[38;5;28;43mself\u001B[39;49m\u001B[38;5;241;43m.\u001B[39;49m\u001B[43mrun_output\u001B[49m\u001B[38;5;241;43m.\u001B[39;49m\u001B[43mdecode\u001B[49m\u001B[43m(\u001B[49m\u001B[43m)\u001B[49m\n\u001B[0;32m    398\u001B[0m \u001B[38;5;28;01mif\u001B[39;00m \u001B[38;5;28mself\u001B[39m\u001B[38;5;241m.\u001B[39mrun_errors \u001B[38;5;129;01mis\u001B[39;00m \u001B[38;5;129;01mnot\u001B[39;00m \u001B[38;5;28;01mNone\u001B[39;00m:\n\u001B[0;32m    399\u001B[0m     \u001B[38;5;28mself\u001B[39m\u001B[38;5;241m.\u001B[39mrun_errors \u001B[38;5;241m=\u001B[39m \u001B[38;5;28mself\u001B[39m\u001B[38;5;241m.\u001B[39mrun_errors\u001B[38;5;241m.\u001B[39mdecode()\n",
      "\u001B[1;31mUnicodeDecodeError\u001B[0m: 'utf-8' codec can't decode byte 0xd5 in position 316: invalid continuation byte"
     ]
    }
   ],
   "source": [
    "# 创建并设置COMETS参数\n",
    "comp_params = c.params()\n",
    "comp_params.set_param('defaultVmax', 10)  # 默认最大反应速率\n",
    "comp_params.set_param('defaultKm', 0.01)  # 默认米氏常数\n",
    "comp_params.set_param('exchangestyle', 'Monod Style')  # 交换风格为Monod模型\n",
    "comp_params.set_param('defaultHill', 1)  # 默认希尔系数\n",
    "\n",
    "# 设置日志记录参数\n",
    "comp_params.set_param('writeMediaLog', True)  # 是否写入培养基日志\n",
    "comp_params.set_param('writeFluxLog', True)  # 是否写入通量日志\n",
    "comp_params.set_param('MediaLogRate', 1)  # 培养基日志记录频率\n",
    "comp_params.set_param('FluxLogRate', 1)  # 通量日志记录频率\n",
    "comp_params.set_param('writeTotalBiomassLog', True)  # 是否写入总生物量日志\n",
    "comp_params.set_param('writeBiomassLog', True)  # 是否写入生物量日志\n",
    "comp_params.set_param('totalBiomassLogRate', 1)  # 总生物量日志记录频率\n",
    "comp_params.set_param('BiomassLogRate', 1)  # 生物量日志记录频率\n",
    "comp_params.set_param(\"writeSpecificMediaLog\", True)  # 是否写入特定培养基日志\n",
    "comp_params.set_param(\"specificMediaLogRate\", 1)  # 特定培养基日志记录频率\n",
    "comp_params.set_param(\"specificMedia\", \"cpd00027_e0\")  # 特定培养基的化合物ID\n",
    "# 运行模拟\n",
    "#sim = c.comets(test_tube_malt, comp_params)\n",
    "#sim.run()\n",
    "#one_cell=3.9e-13 # gram dry weight of a cell\n",
    "\n",
    "comp_assay=c.comets(test_tube_malt,comp_params)\n",
    "comp_assay.run()\n",
    "\n"
   ],
   "metadata": {
    "collapsed": false,
    "ExecuteTime": {
     "end_time": "2024-03-29T14:09:00.503344200Z",
     "start_time": "2024-03-29T14:08:58.250346700Z"
    }
   },
   "id": "c70f1ad2f3ea13d4",
   "execution_count": 13
  },
  {
   "cell_type": "code",
   "outputs": [],
   "source": [
    "# 获取并分析结果\n",
    "biomass_data = sim.get_biomass_data()\n",
    "flux_data = sim.get_flux_data()"
   ],
   "metadata": {
    "collapsed": false,
    "ExecuteTime": {
     "start_time": "2024-03-29T14:08:06.622733500Z"
    }
   },
   "id": "6bfb49eee3074795"
  },
  {
   "cell_type": "code",
   "outputs": [],
   "source": [],
   "metadata": {
    "collapsed": false,
    "ExecuteTime": {
     "start_time": "2024-03-29T14:08:06.624733300Z"
    }
   },
   "id": "c8437bfb713b1ad5"
  }
 ],
 "metadata": {
  "kernelspec": {
   "display_name": "Python 3",
   "language": "python",
   "name": "python3"
  },
  "language_info": {
   "codemirror_mode": {
    "name": "ipython",
    "version": 2
   },
   "file_extension": ".py",
   "mimetype": "text/x-python",
   "name": "python",
   "nbconvert_exporter": "python",
   "pygments_lexer": "ipython2",
   "version": "2.7.6"
  }
 },
 "nbformat": 4,
 "nbformat_minor": 5
}
新的内容
