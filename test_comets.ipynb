{
 "cells": [
  {
   "cell_type": "markdown",
   "metadata": {},
   "source": [
    "运行 <https://segrelab.github.io/comets-manual/getting_started/> 的示例代码，验证 COMETS 的安装。"
   ]
  },
  {
   "cell_type": "code",
   "execution_count": 17,
   "metadata": {},
   "outputs": [
    {
     "name": "stderr",
     "output_type": "stream",
     "text": [
      "/opt/homebrew/anaconda3/envs/cobra/lib/python3.12/site-packages/cometspy/model.py:623: FutureWarning: The behavior of DataFrame concatenation with empty or all-NA entries is deprecated. In a future version, this will no longer exclude empty or all-NA columns when determining the result dtypes. To retain the old behavior, exclude the relevant entries before the concat operation.\n",
      "  self.smat = pd.concat([self.smat, cdf])\n",
      "/opt/homebrew/anaconda3/envs/cobra/lib/python3.12/site-packages/cometspy/model.py:636: FutureWarning: Calling int on a single element Series is deprecated and will raise a TypeError in the future. Use int(ser.iloc[0]) instead\n",
      "  self.objective = [int(self.reactions[self.reactions.\n",
      "/opt/homebrew/anaconda3/envs/cobra/lib/python3.12/site-packages/cometspy/layout.py:1361: FutureWarning: The behavior of DataFrame concatenation with empty or all-NA entries is deprecated. In a future version, this will no longer exclude empty or all-NA columns when determining the result dtypes. To retain the old behavior, exclude the relevant entries before the concat operation.\n",
      "  self.media = pd.concat([self.media, new_row],\n"
     ]
    },
    {
     "name": "stdout",
     "output_type": "stream",
     "text": [
      "\n",
      "Running COMETS simulation ...\n",
      "Error: COMETS simulation did not complete\n",
      "\n",
      "     examine comets.run_output for the full java trace\n",
      "\n",
      "     if we detect a common reason, it will be stated in the RuntimeError at the bottom\n"
     ]
    },
    {
     "ename": "RuntimeError",
     "evalue": "COMETS simulation did not complete:\n JAVA could not find gurobi.\ntry the following: \n>>> import os\n>>> os.environ['GUROBI_COMETS_HOME']\nif there is nothing there try setting that variable\nto the location of gurobi.jar, for example:\n>>> os.environ['GUROBI_COMETS_HOME'] = '/opt/gurobi900/linux64'",
     "output_type": "error",
     "traceback": [
      "\u001b[0;31m---------------------------------------------------------------------------\u001b[0m",
      "\u001b[0;31mRuntimeError\u001b[0m                              Traceback (most recent call last)",
      "Cell \u001b[0;32mIn[17], line 35\u001b[0m\n\u001b[1;32m     32\u001b[0m os\u001b[38;5;241m.\u001b[39menviron[\u001b[38;5;124m'\u001b[39m\u001b[38;5;124mCOMETS_HOME\u001b[39m\u001b[38;5;124m'\u001b[39m] \u001b[38;5;241m=\u001b[39m \u001b[38;5;124m'\u001b[39m\u001b[38;5;124m/Applications/COMETS\u001b[39m\u001b[38;5;124m'\u001b[39m\n\u001b[1;32m     34\u001b[0m \u001b[38;5;28mself\u001b[39m \u001b[38;5;241m=\u001b[39m c\u001b[38;5;241m.\u001b[39mcomets(my_layout, my_params)\n\u001b[0;32m---> 35\u001b[0m \u001b[38;5;28;43mself\u001b[39;49m\u001b[38;5;241;43m.\u001b[39;49m\u001b[43mrun\u001b[49m\u001b[43m(\u001b[49m\u001b[43m)\u001b[49m\n",
      "File \u001b[0;32m/opt/homebrew/anaconda3/envs/cobra/lib/python3.12/site-packages/cometspy/comets.py:400\u001b[0m, in \u001b[0;36mcomets.run\u001b[0;34m(self, delete_files)\u001b[0m\n\u001b[1;32m    397\u001b[0m     \u001b[38;5;28mself\u001b[39m\u001b[38;5;241m.\u001b[39mrun_errors \u001b[38;5;241m=\u001b[39m \u001b[38;5;124m\"\u001b[39m\u001b[38;5;124mSTDERR empty.\u001b[39m\u001b[38;5;124m\"\u001b[39m\n\u001b[1;32m    399\u001b[0m \u001b[38;5;66;03m# Raise RuntimeError if simulation had nonzero exit\u001b[39;00m\n\u001b[0;32m--> 400\u001b[0m \u001b[38;5;28;43mself\u001b[39;49m\u001b[38;5;241;43m.\u001b[39;49m\u001b[43m__analyze_run_output\u001b[49m\u001b[43m(\u001b[49m\u001b[43m)\u001b[49m\n\u001b[1;32m    402\u001b[0m \u001b[38;5;66;03m# '''----------- READ OUTPUT ---------------------------------------'''\u001b[39;00m\n\u001b[1;32m    403\u001b[0m \u001b[38;5;66;03m# Read total biomass output\u001b[39;00m\n\u001b[1;32m    404\u001b[0m \u001b[38;5;28;01mif\u001b[39;00m \u001b[38;5;28mself\u001b[39m\u001b[38;5;241m.\u001b[39mparameters\u001b[38;5;241m.\u001b[39mall_params[\u001b[38;5;124m'\u001b[39m\u001b[38;5;124mwriteTotalBiomassLog\u001b[39m\u001b[38;5;124m'\u001b[39m]:\n",
      "File \u001b[0;32m/opt/homebrew/anaconda3/envs/cobra/lib/python3.12/site-packages/cometspy/comets.py:565\u001b[0m, in \u001b[0;36mcomets.__analyze_run_output\u001b[0;34m(self)\u001b[0m\n\u001b[1;32m    563\u001b[0m         message \u001b[38;5;241m+\u001b[39m\u001b[38;5;241m=\u001b[39m \u001b[38;5;124m\"\u001b[39m\u001b[38;5;124mif in Unix. In Windows, it suggests that something changed\u001b[39m\u001b[38;5;130;01m\\n\u001b[39;00m\u001b[38;5;124m\"\u001b[39m\n\u001b[1;32m    564\u001b[0m         message \u001b[38;5;241m+\u001b[39m\u001b[38;5;241m=\u001b[39m \u001b[38;5;124m\"\u001b[39m\u001b[38;5;124mwith the dependencies installed alongside COMETS\u001b[39m\u001b[38;5;124m\"\u001b[39m\n\u001b[0;32m--> 565\u001b[0m     \u001b[38;5;28;01mraise\u001b[39;00m \u001b[38;5;167;01mRuntimeError\u001b[39;00m(\u001b[38;5;124mf\u001b[39m\u001b[38;5;124m\"\u001b[39m\u001b[38;5;124mCOMETS simulation did not complete:\u001b[39m\u001b[38;5;130;01m\\n\u001b[39;00m\u001b[38;5;124m \u001b[39m\u001b[38;5;132;01m{\u001b[39;00mmessage\u001b[38;5;132;01m}\u001b[39;00m\u001b[38;5;124m\"\u001b[39m)\n\u001b[1;32m    567\u001b[0m message \u001b[38;5;241m=\u001b[39m \u001b[38;5;124m\"\u001b[39m\u001b[38;5;124mundetected reason. examine comets.run_output for JAVA trace\u001b[39m\u001b[38;5;124m\"\u001b[39m\n\u001b[1;32m    568\u001b[0m \u001b[38;5;28;01mraise\u001b[39;00m \u001b[38;5;167;01mRuntimeError\u001b[39;00m(\u001b[38;5;124mf\u001b[39m\u001b[38;5;124m\"\u001b[39m\u001b[38;5;124mCOMETS simulation did not complete:\u001b[39m\u001b[38;5;130;01m\\n\u001b[39;00m\u001b[38;5;124m \u001b[39m\u001b[38;5;132;01m{\u001b[39;00mmessage\u001b[38;5;132;01m}\u001b[39;00m\u001b[38;5;124m\"\u001b[39m)\n",
      "\u001b[0;31mRuntimeError\u001b[0m: COMETS simulation did not complete:\n JAVA could not find gurobi.\ntry the following: \n>>> import os\n>>> os.environ['GUROBI_COMETS_HOME']\nif there is nothing there try setting that variable\nto the location of gurobi.jar, for example:\n>>> os.environ['GUROBI_COMETS_HOME'] = '/opt/gurobi900/linux64'"
     ]
    }
   ],
   "source": [
    "import cobra\n",
    "# import cobra.test\n",
    "import cobra.io\n",
    "import cometspy as c\n",
    "\n",
    "# Load a textbook example model using the COBRAPy toolbox \n",
    "test_model = cobra.io.load_model('textbook')\n",
    "\n",
    "# Use the above model to create a COMETS model\n",
    "test_model = c.model(test_model)\n",
    "\n",
    "# Change comets specific parameters, e.g. the initial biomass of the model\n",
    "# Notre \n",
    "test_model.initial_pop = [0, 0, 1e-7] \n",
    "\n",
    "# Create a parameters object with default values \n",
    "my_params = c.params()\n",
    "\n",
    "# Change the value of a parameter, for example number of simulation cycles\n",
    "my_params.set_param('maxCycles', 100)\n",
    "\n",
    "# Set some writeTotalBiomassLog parameter to True, in order to save the output\n",
    "my_params.set_param('writeTotalBiomassLog', True)\n",
    "\n",
    "# See avaliable parameters and their values\n",
    "my_params.show_params()\n",
    "\n",
    "my_layout = c.layout(test_model)\n",
    "\n",
    "import os\n",
    "os.environ['GUROBI_HOME'] = '/Library/gurobi1101/macos_universal2'\n",
    "os.environ['COMETS_HOME'] = '/Applications/COMETS'\n",
    "\n",
    "self = c.comets(my_layout, my_params)\n",
    "self.run()"
   ]
  },
  {
   "cell_type": "code",
   "execution_count": 18,
   "metadata": {},
   "outputs": [
    {
     "name": "stdout",
     "output_type": "stream",
     "text": [
      "java -classpath /Library/gurobi1101/macos_universal2/lib/gurobi.jar:/Applications/COMETS/lib/junit/junit-4.12.jar:/Applications/COMETS/lib/junit/hamcrest-core-1.3.jar:/Applications/COMETS/lib/jogl/jogamp-all-platforms/jar/jogl-all.jar:/Applications/COMETS/lib/jogl/jogamp-all-platforms/jar/gluegen-rt.jar:/Applications/COMETS/lib/jogl/jogamp-all-platforms/jar/gluegen.jar:/Applications/COMETS/lib/jogl/jogamp-all-platforms/jar/gluegen-rt-natives-linux-amd64.jar:/Applications/COMETS/lib/jogl/jogamp-all-platforms/jar/jogl-all-natives-linux-amd64.jar:/Applications/COMETS/lib/JMatIO/JMatIO-041212/lib/jmatio.jar:/Applications/COMETS/lib/JMatIO/JMatIO-041212/lib/jmatio.jar:/Applications/COMETS/lib/colt/lib/concurrent.jar:/Applications/COMETS/lib/colt/lib/colt.jar:/Applications/COMETS/lib/commons-lang3-3.9/commons-lang3-3.9.jar:/Applications/COMETS/lib/commons-math3-3.6.1/commons-math3-3.6.1.jar:/Applications/COMETS/lib/jdistlib-0.4.5-bin.jar:/Applications/COMETS/bin/comets_2.10.5.jar edu.bu.segrelab.comets.Comets -loader edu.bu.segrelab.comets.fba.FBACometsLoader -script \"/Users/gaoch/GitHub/merge_model/.current_script_0x1665c32c0\"\n"
     ]
    }
   ],
   "source": [
    "# 构建的命令\n",
    "print(self.cmd)"
   ]
  },
  {
   "cell_type": "code",
   "execution_count": 6,
   "metadata": {},
   "outputs": [],
   "source": [
    "my_simulation.set_classpath('gluegen_rt_natives', '/Applications/COMETS/lib/jogl/jogamp-all-platforms/jar/gluegen-rt-natives-macosx-universal.jar')\n",
    "my_simulation.set_classpath('jogl_all_natives', '/Applications/COMETS/lib/jogl/jogamp-all-platforms/jar/jogl-all-natives-macosx-universal.jar')"
   ]
  },
  {
   "cell_type": "code",
   "execution_count": 7,
   "metadata": {},
   "outputs": [
    {
     "name": "stdout",
     "output_type": "stream",
     "text": [
      "File /Library/gurobi1101/macos_universal2/lib/gurobi.jar for gurobi exists.\n",
      "File /Applications/COMETS/lib/junit/junit-4.12.jar for junit exists.\n",
      "File /Applications/COMETS/lib/junit/hamcrest-core-1.3.jar for hamcrest exists.\n",
      "File /Applications/COMETS/lib/jogl/jogamp-all-platforms/jar/jogl-all.jar for jogl_all exists.\n",
      "File /Applications/COMETS/lib/jogl/jogamp-all-platforms/jar/gluegen-rt.jar for gluegen_rt exists.\n",
      "File /Applications/COMETS/lib/jogl/jogamp-all-platforms/jar/gluegen.jar for gluegen exists.\n",
      "File /Applications/COMETS/lib/jogl/jogamp-all-platforms/jar/gluegen-rt-natives-macosx-universal.jar for gluegen_rt_natives exists.\n",
      "File /Applications/COMETS/lib/jogl/jogamp-all-platforms/jar/jogl-all-natives-macosx-universal.jar for jogl_all_natives exists.\n",
      "File /Applications/COMETS/lib/JMatIO/JMatIO-041212/lib/jmatio.jar for jmatio exists.\n",
      "File /Applications/COMETS/lib/JMatIO/JMatIO-041212/lib/jmatio.jar for jmat exists.\n",
      "File /Applications/COMETS/lib/colt/lib/concurrent.jar for concurrent exists.\n",
      "File /Applications/COMETS/lib/colt/lib/colt.jar for colt exists.\n",
      "File /Applications/COMETS/lib/commons-lang3-3.9/commons-lang3-3.9.jar for lang3 exists.\n",
      "File /Applications/COMETS/lib/commons-math3-3.6.1/commons-math3-3.6.1.jar for math3 exists.\n",
      "File /Applications/COMETS/lib/jdistlib-0.4.5-bin.jar for jdistlib exists.\n",
      "File /Applications/COMETS/bin/comets_2.10.5.jar for bin exists.\n"
     ]
    }
   ],
   "source": [
    "for key, path in my_simulation.classpath_pieces.items():\n",
    "    if os.path.exists(path):\n",
    "        print(f\"File {path} for {key} exists.\")\n",
    "    else:\n",
    "        print(f\"File {path} for {key} does not exist.\")"
   ]
  },
  {
   "cell_type": "code",
   "execution_count": 15,
   "metadata": {},
   "outputs": [
    {
     "name": "stdout",
     "output_type": "stream",
     "text": [
      "-script\n",
      "running script file: /Users/gaoch/GitHub/merge_model/.current_script_0x16640d8e0\n",
      "Current Java version: 1.8.0_401\n",
      "Parameters file .current_global_0x16640d8e0 loaded.\n",
      "Parameters file .current_package_0x16640d8e0 loaded.\n",
      "Loading layout file '.current_layout_0x16640d8e0'...\n",
      "null/COMETS_manifest.txt (No such file or directory)\n",
      "Unable to initialize manifest file. \n",
      "Continuing without writing manifest file.\n",
      "Found 1 model files!\n",
      "Loading './e_coli_core.cmd' ...\n",
      "Exception in thread \"main\" java.lang.NoClassDefFoundError: gurobi/GRBException\n",
      "\tat edu.bu.segrelab.comets.fba.FBAModel.<init>(FBAModel.java:224)\n",
      "\tat edu.bu.segrelab.comets.fba.FBAModel.<init>(FBAModel.java:287)\n",
      "\tat edu.bu.segrelab.comets.fba.FBAModel.loadModelFromFile(FBAModel.java:2648)\n",
      "\tat edu.bu.segrelab.comets.fba.FBACometsLoader.loadModelFromFile(FBACometsLoader.java:2918)\n",
      "\tat edu.bu.segrelab.comets.fba.FBACometsLoader.parseModelFileLine(FBACometsLoader.java:1168)\n",
      "\tat edu.bu.segrelab.comets.fba.FBACometsLoader.loadLayoutFile(FBACometsLoader.java:316)\n",
      "\tat edu.bu.segrelab.comets.Comets.loadLayoutFile(Comets.java:1657)\n",
      "\tat edu.bu.segrelab.comets.Comets.runScript(Comets.java:541)\n",
      "\tat edu.bu.segrelab.comets.Comets.<init>(Comets.java:233)\n",
      "\tat edu.bu.segrelab.comets.Comets.main(Comets.java:2159)\n",
      "Caused by: java.lang.ClassNotFoundException: gurobi.GRBException\n",
      "\tat java.net.URLClassLoader.findClass(URLClassLoader.java:387)\n",
      "\tat java.lang.ClassLoader.loadClass(ClassLoader.java:418)\n",
      "\tat sun.misc.Launcher$AppClassLoader.loadClass(Launcher.java:359)\n",
      "\tat java.lang.ClassLoader.loadClass(ClassLoader.java:351)\n",
      "\t... 10 more\n",
      "\n"
     ]
    }
   ],
   "source": [
    "self = my_simulation\n",
    "loc = self.run_output.find(\"NoClassDefFoundError\")\n",
    "print(self.run_output)"
   ]
  },
  {
   "cell_type": "code",
   "execution_count": null,
   "metadata": {},
   "outputs": [
    {
     "name": "stdout",
     "output_type": "stream",
     "text": [
      "STDERR empty.\n"
     ]
    }
   ],
   "source": [
    "print(my_simulation.run_errors)"
   ]
  },
  {
   "cell_type": "code",
   "execution_count": null,
   "metadata": {},
   "outputs": [
    {
     "ename": "AttributeError",
     "evalue": "'comets' object has no attribute 'total_biomass'",
     "output_type": "error",
     "traceback": [
      "\u001b[0;31m---------------------------------------------------------------------------\u001b[0m",
      "\u001b[0;31mAttributeError\u001b[0m                            Traceback (most recent call last)",
      "Cell \u001b[0;32mIn[28], line 1\u001b[0m\n\u001b[0;32m----> 1\u001b[0m \u001b[43mmy_simulation\u001b[49m\u001b[38;5;241;43m.\u001b[39;49m\u001b[43mtotal_biomass\u001b[49m\n",
      "\u001b[0;31mAttributeError\u001b[0m: 'comets' object has no attribute 'total_biomass'"
     ]
    }
   ],
   "source": [
    "my_simulation.total_biomass"
   ]
  }
 ],
 "metadata": {
  "kernelspec": {
   "display_name": "cobra",
   "language": "python",
   "name": "python3"
  },
  "language_info": {
   "codemirror_mode": {
    "name": "ipython",
    "version": 3
   },
   "file_extension": ".py",
   "mimetype": "text/x-python",
   "name": "python",
   "nbconvert_exporter": "python",
   "pygments_lexer": "ipython3",
   "version": "3.12.2"
  }
 },
 "nbformat": 4,
 "nbformat_minor": 2
}
